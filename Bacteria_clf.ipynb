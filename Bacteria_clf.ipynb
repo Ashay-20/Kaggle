{
  "cells": [
    {
      "cell_type": "markdown",
      "metadata": {
        "id": "view-in-github",
        "colab_type": "text"
      },
      "source": [
        "<a href=\"https://colab.research.google.com/github/Ashay-20/Kaggle/blob/main/Bacteria_clf.ipynb\" target=\"_parent\"><img src=\"https://colab.research.google.com/assets/colab-badge.svg\" alt=\"Open In Colab\"/></a>"
      ]
    },
    {
      "cell_type": "code",
      "execution_count": null,
      "id": "d0faf0b4",
      "metadata": {
        "_cell_guid": "b1076dfc-b9ad-4769-8c92-a6c4dae69d19",
        "_uuid": "8f2839f25d086af736a60e9eeb907d3b93b6e0e5",
        "execution": {
          "iopub.execute_input": "2022-02-24T15:04:22.470991Z",
          "iopub.status.busy": "2022-02-24T15:04:22.470259Z",
          "iopub.status.idle": "2022-02-24T15:04:25.831107Z",
          "shell.execute_reply": "2022-02-24T15:04:25.831735Z",
          "shell.execute_reply.started": "2022-02-24T06:10:39.875822Z"
        },
        "papermill": {
          "duration": 3.400371,
          "end_time": "2022-02-24T15:04:25.832150",
          "exception": false,
          "start_time": "2022-02-24T15:04:22.431779",
          "status": "completed"
        },
        "tags": [],
        "id": "d0faf0b4",
        "outputId": "dd6c5080-4abd-48c0-9ae9-00546380cf40"
      },
      "outputs": [
        {
          "data": {
            "text/html": [
              "<style type='text/css'>\n",
              ".datatable table.frame { margin-bottom: 0; }\n",
              ".datatable table.frame thead { border-bottom: none; }\n",
              ".datatable table.frame tr.coltypes td {  color: #FFFFFF;  line-height: 6px;  padding: 0 0.5em;}\n",
              ".datatable .bool    { background: #DDDD99; }\n",
              ".datatable .object  { background: #565656; }\n",
              ".datatable .int     { background: #5D9E5D; }\n",
              ".datatable .float   { background: #4040CC; }\n",
              ".datatable .str     { background: #CC4040; }\n",
              ".datatable .time    { background: #40CC40; }\n",
              ".datatable .row_index {  background: var(--jp-border-color3);  border-right: 1px solid var(--jp-border-color0);  color: var(--jp-ui-font-color3);  font-size: 9px;}\n",
              ".datatable .frame tbody td { text-align: left; }\n",
              ".datatable .frame tr.coltypes .row_index {  background: var(--jp-border-color0);}\n",
              ".datatable th:nth-child(2) { padding-left: 12px; }\n",
              ".datatable .hellipsis {  color: var(--jp-cell-editor-border-color);}\n",
              ".datatable .vellipsis {  background: var(--jp-layout-color0);  color: var(--jp-cell-editor-border-color);}\n",
              ".datatable .na {  color: var(--jp-cell-editor-border-color);  font-size: 80%;}\n",
              ".datatable .sp {  opacity: 0.25;}\n",
              ".datatable .footer { font-size: 9px; }\n",
              ".datatable .frame_dimensions {  background: var(--jp-border-color3);  border-top: 1px solid var(--jp-border-color0);  color: var(--jp-ui-font-color3);  display: inline-block;  opacity: 0.6;  padding: 1px 10px 1px 5px;}\n",
              "</style>\n"
            ],
            "text/plain": [
              "<IPython.core.display.HTML object>"
            ]
          },
          "metadata": {},
          "output_type": "display_data"
        },
        {
          "name": "stdout",
          "output_type": "stream",
          "text": [
            "/kaggle/input/tabular-playground-series-feb-2022/sample_submission.csv\n",
            "/kaggle/input/tabular-playground-series-feb-2022/train.csv\n",
            "/kaggle/input/tabular-playground-series-feb-2022/test.csv\n"
          ]
        }
      ],
      "source": [
        "\n",
        "import numpy as np # linear algebra\n",
        "import pandas as pd # data processing, CSV file I/O (e.g. pd.read_csv)\n",
        "import os\n",
        "from sklearn.model_selection import StratifiedKFold\n",
        "from sklearn.metrics import accuracy_score\n",
        "from sklearn.preprocessing import StandardScaler\n",
        "from sklearn.model_selection import train_test_split\n",
        "from xgboost import XGBClassifier\n",
        "from sklearn.ensemble import ExtraTreesClassifier\n",
        "from catboost import CatBoostClassifier\n",
        "import seaborn as sns\n",
        "from lightgbm import LGBMClassifier\n",
        "from scipy.stats import mode\n",
        "for dirname, _, filenames in os.walk('/kaggle/input'):\n",
        "    for filename in filenames:\n",
        "        print(os.path.join(dirname, filename))\n"
      ]
    },
    {
      "cell_type": "markdown",
      "id": "867ba66c",
      "metadata": {
        "papermill": {
          "duration": 0.028401,
          "end_time": "2022-02-24T15:04:25.888948",
          "exception": false,
          "start_time": "2022-02-24T15:04:25.860547",
          "status": "completed"
        },
        "tags": [],
        "id": "867ba66c"
      },
      "source": [
        "# Importing the data"
      ]
    },
    {
      "cell_type": "code",
      "execution_count": null,
      "id": "b3285a1b",
      "metadata": {
        "execution": {
          "iopub.execute_input": "2022-02-24T15:04:25.945386Z",
          "iopub.status.busy": "2022-02-24T15:04:25.944609Z",
          "iopub.status.idle": "2022-02-24T15:05:08.493679Z",
          "shell.execute_reply": "2022-02-24T15:05:08.494497Z",
          "shell.execute_reply.started": "2022-02-24T06:10:42.963372Z"
        },
        "papermill": {
          "duration": 42.58076,
          "end_time": "2022-02-24T15:05:08.494719",
          "exception": false,
          "start_time": "2022-02-24T15:04:25.913959",
          "status": "completed"
        },
        "tags": [],
        "id": "b3285a1b"
      },
      "outputs": [],
      "source": [
        "df=pd.read_csv(\"../input/tabular-playground-series-feb-2022/train.csv\")\n",
        "test=pd.read_csv(\"../input/tabular-playground-series-feb-2022/test.csv\")\n",
        "sub=pd.read_csv(\"../input/tabular-playground-series-feb-2022/sample_submission.csv\")"
      ]
    },
    {
      "cell_type": "markdown",
      "id": "6c90feae",
      "metadata": {
        "papermill": {
          "duration": 0.027821,
          "end_time": "2022-02-24T15:05:08.549012",
          "exception": false,
          "start_time": "2022-02-24T15:05:08.521191",
          "status": "completed"
        },
        "tags": [],
        "id": "6c90feae"
      },
      "source": [
        "# Droping the index column"
      ]
    },
    {
      "cell_type": "code",
      "execution_count": null,
      "id": "44e53361",
      "metadata": {
        "execution": {
          "iopub.execute_input": "2022-02-24T15:05:08.612649Z",
          "iopub.status.busy": "2022-02-24T15:05:08.611931Z",
          "iopub.status.idle": "2022-02-24T15:05:08.630278Z",
          "shell.execute_reply": "2022-02-24T15:05:08.630846Z",
          "shell.execute_reply.started": "2022-02-24T06:11:22.827998Z"
        },
        "papermill": {
          "duration": 0.055873,
          "end_time": "2022-02-24T15:05:08.631098",
          "exception": false,
          "start_time": "2022-02-24T15:05:08.575225",
          "status": "completed"
        },
        "tags": [],
        "id": "44e53361",
        "outputId": "16a69074-4dba-4230-eae5-9d6f6767e771"
      },
      "outputs": [
        {
          "data": {
            "text/plain": [
              "0        200000\n",
              "1        200001\n",
              "2        200002\n",
              "3        200003\n",
              "4        200004\n",
              "          ...  \n",
              "99995    299995\n",
              "99996    299996\n",
              "99997    299997\n",
              "99998    299998\n",
              "99999    299999\n",
              "Name: row_id, Length: 100000, dtype: int64"
            ]
          },
          "execution_count": 3,
          "metadata": {},
          "output_type": "execute_result"
        }
      ],
      "source": [
        "df.pop(\"row_id\")\n",
        "test.pop(\"row_id\")"
      ]
    },
    {
      "cell_type": "markdown",
      "id": "c5fef29e",
      "metadata": {
        "papermill": {
          "duration": 0.027351,
          "end_time": "2022-02-24T15:05:08.684998",
          "exception": false,
          "start_time": "2022-02-24T15:05:08.657647",
          "status": "completed"
        },
        "tags": [],
        "id": "c5fef29e"
      },
      "source": [
        "# Mean Median Mode"
      ]
    },
    {
      "cell_type": "markdown",
      "id": "2c8cf403",
      "metadata": {
        "papermill": {
          "duration": 0.026508,
          "end_time": "2022-02-24T15:05:08.738138",
          "exception": false,
          "start_time": "2022-02-24T15:05:08.711630",
          "status": "completed"
        },
        "tags": [],
        "id": "2c8cf403"
      },
      "source": [
        "# Reducing memory usage"
      ]
    },
    {
      "cell_type": "code",
      "execution_count": null,
      "id": "e2531fbf",
      "metadata": {
        "_kg_hide-input": true,
        "execution": {
          "iopub.execute_input": "2022-02-24T15:05:08.808066Z",
          "iopub.status.busy": "2022-02-24T15:05:08.807179Z",
          "iopub.status.idle": "2022-02-24T15:05:08.810492Z",
          "shell.execute_reply": "2022-02-24T15:05:08.809860Z",
          "shell.execute_reply.started": "2022-02-24T06:11:22.846817Z"
        },
        "papermill": {
          "duration": 0.044028,
          "end_time": "2022-02-24T15:05:08.810690",
          "exception": false,
          "start_time": "2022-02-24T15:05:08.766662",
          "status": "completed"
        },
        "tags": [],
        "id": "e2531fbf"
      },
      "outputs": [],
      "source": [
        "def downcastMemoryUsage(dataFrame):\n",
        "    startMemoryOptimization = dataFrame.memory_usage().sum() / 1024 ** 2\n",
        "    print('Memory usage of dataframe is: \\033[1m{:.2f} MB\\033[0m'.format(startMemoryOptimization))\n",
        "    subTypeInt = ['uint8','uint16','uint32','uint64','int8','int16','int32','int64']\n",
        "    subTypeFloat = ['float16','float32','float64']\n",
        "    for column in dataFrame.columns:\n",
        "        columnType = str(dataFrame[column].dtypes)\n",
        "        maximumColumn = dataFrame[column].max()\n",
        "        minimumColumn = dataFrame[column].min()\n",
        "        if 'int' in columnType:\n",
        "            for element in subTypeInt:\n",
        "                if minimumColumn > np.iinfo(element).min and maximumColumn < np.iinfo(element).max:\n",
        "                    dataFrame[column] = dataFrame[column].astype(element)\n",
        "                    break\n",
        "        elif 'float' in columnType:\n",
        "            for element in subTypeFloat:\n",
        "                if minimumColumn > np.finfo(element).min and maximumColumn < np.finfo(element).max:\n",
        "                    dataFrame[column] = dataFrame[column].astype(element)\n",
        "                    break\n",
        "        elif 'object' in columnType:\n",
        "            numberOfUnique = len(dataFrame[column].unique())\n",
        "            numberOfTotal = len(dataFrame[column])\n",
        "            if numberOfUnique / numberOfTotal < 0.5:\n",
        "                dataFrame[column] = dataFrame[column].astype('category')\n",
        "    endMemoryOptimization = dataFrame.memory_usage().sum() / 1024 ** 2\n",
        "    print('Memory usage after optimization is: \\033[1m{:.2f} MB\\033[0m'.format(endMemoryOptimization))\n",
        "    print('Compressed by: \\033[1m{:.2f} %\\033[0m'.format(100*(startMemoryOptimization - endMemoryOptimization) / startMemoryOptimization))\n",
        "    return dataFrame"
      ]
    },
    {
      "cell_type": "code",
      "execution_count": null,
      "id": "7a07bce7",
      "metadata": {
        "execution": {
          "iopub.execute_input": "2022-02-24T15:05:08.880658Z",
          "iopub.status.busy": "2022-02-24T15:05:08.879522Z",
          "iopub.status.idle": "2022-02-24T15:06:04.329203Z",
          "shell.execute_reply": "2022-02-24T15:06:04.328382Z",
          "shell.execute_reply.started": "2022-02-24T06:11:22.864054Z"
        },
        "papermill": {
          "duration": 55.491996,
          "end_time": "2022-02-24T15:06:04.329425",
          "exception": false,
          "start_time": "2022-02-24T15:05:08.837429",
          "status": "completed"
        },
        "tags": [],
        "id": "7a07bce7",
        "outputId": "5363f1bf-7929-4a21-9bbe-c58855f83077"
      },
      "outputs": [
        {
          "name": "stdout",
          "output_type": "stream",
          "text": [
            "Memory usage of dataframe is: \u001b[1m437.93 MB\u001b[0m\n",
            "Memory usage after optimization is: \u001b[1m109.29 MB\u001b[0m\n",
            "Compressed by: \u001b[1m75.04 %\u001b[0m\n",
            "Memory usage of dataframe is: \u001b[1m218.20 MB\u001b[0m\n",
            "Memory usage after optimization is: \u001b[1m54.55 MB\u001b[0m\n",
            "Compressed by: \u001b[1m75.00 %\u001b[0m\n"
          ]
        }
      ],
      "source": [
        "df=downcastMemoryUsage(df)\n",
        "test=downcastMemoryUsage(test)"
      ]
    },
    {
      "cell_type": "markdown",
      "id": "9f082c00",
      "metadata": {
        "papermill": {
          "duration": 0.030464,
          "end_time": "2022-02-24T15:06:04.389499",
          "exception": false,
          "start_time": "2022-02-24T15:06:04.359035",
          "status": "completed"
        },
        "tags": [],
        "id": "9f082c00"
      },
      "source": [
        "# Including the required features"
      ]
    },
    {
      "cell_type": "code",
      "execution_count": null,
      "id": "b48b2a46",
      "metadata": {
        "execution": {
          "iopub.execute_input": "2022-02-24T15:06:04.450942Z",
          "iopub.status.busy": "2022-02-24T15:06:04.450077Z",
          "iopub.status.idle": "2022-02-24T15:06:04.457239Z",
          "shell.execute_reply": "2022-02-24T15:06:04.456592Z",
          "shell.execute_reply.started": "2022-02-24T06:12:22.384627Z"
        },
        "papermill": {
          "duration": 0.039054,
          "end_time": "2022-02-24T15:06:04.457447",
          "exception": false,
          "start_time": "2022-02-24T15:06:04.418393",
          "status": "completed"
        },
        "tags": [],
        "id": "b48b2a46"
      },
      "outputs": [],
      "source": [
        "FEATURES = [col for col in df.columns if col not in ['row_id', 'target']]"
      ]
    },
    {
      "cell_type": "code",
      "execution_count": null,
      "id": "71bf8609",
      "metadata": {
        "execution": {
          "iopub.execute_input": "2022-02-24T15:06:04.518584Z",
          "iopub.status.busy": "2022-02-24T15:06:04.517268Z",
          "iopub.status.idle": "2022-02-24T15:06:06.683535Z",
          "shell.execute_reply": "2022-02-24T15:06:06.682728Z",
          "shell.execute_reply.started": "2022-02-24T06:12:22.389606Z"
        },
        "papermill": {
          "duration": 2.198584,
          "end_time": "2022-02-24T15:06:06.683725",
          "exception": false,
          "start_time": "2022-02-24T15:06:04.485141",
          "status": "completed"
        },
        "tags": [],
        "id": "71bf8609"
      },
      "outputs": [],
      "source": [
        "catfeat=[col for col in FEATURES if df[col].nunique() < 25]\n",
        "contfeat=[col for col in FEATURES if df[col].nunique() >= 25]"
      ]
    },
    {
      "cell_type": "markdown",
      "id": "be03806e",
      "metadata": {
        "papermill": {
          "duration": 0.02673,
          "end_time": "2022-02-24T15:06:06.742607",
          "exception": false,
          "start_time": "2022-02-24T15:06:06.715877",
          "status": "completed"
        },
        "tags": [],
        "id": "be03806e"
      },
      "source": [
        "# Scaling features using **standard scaler**"
      ]
    },
    {
      "cell_type": "code",
      "execution_count": null,
      "id": "26e9875b",
      "metadata": {
        "execution": {
          "iopub.execute_input": "2022-02-24T15:06:06.803946Z",
          "iopub.status.busy": "2022-02-24T15:06:06.802881Z",
          "iopub.status.idle": "2022-02-24T15:06:20.383221Z",
          "shell.execute_reply": "2022-02-24T15:06:20.383826Z",
          "shell.execute_reply.started": "2022-02-24T06:12:24.492429Z"
        },
        "papermill": {
          "duration": 13.613768,
          "end_time": "2022-02-24T15:06:20.384048",
          "exception": false,
          "start_time": "2022-02-24T15:06:06.770280",
          "status": "completed"
        },
        "tags": [],
        "id": "26e9875b"
      },
      "outputs": [],
      "source": [
        "def scaling_feat(train_set, test_set):\n",
        "    scaler = StandardScaler()\n",
        "    train_set_scaled = scaler.fit_transform(train_set)\n",
        "    test_set_scaled = scaler.transform(test_set)\n",
        "    train_set = pd.DataFrame(train_set_scaled, index=train_set.index, columns=train_set.columns)\n",
        "    test_set = pd.DataFrame(test_set_scaled, index=test_set.index, columns=test_set.columns)\n",
        "    return train_set, test_set\n",
        "\n",
        "train_set, test_set = scaling_feat(df[FEATURES], test)"
      ]
    },
    {
      "cell_type": "markdown",
      "id": "810b3f26",
      "metadata": {
        "papermill": {
          "duration": 0.028593,
          "end_time": "2022-02-24T15:06:20.438662",
          "exception": false,
          "start_time": "2022-02-24T15:06:20.410069",
          "status": "completed"
        },
        "tags": [],
        "id": "810b3f26"
      },
      "source": [
        "# Encoding the target to numerical values using **labelencoder**"
      ]
    },
    {
      "cell_type": "code",
      "execution_count": null,
      "id": "c3ea15e1",
      "metadata": {
        "execution": {
          "iopub.execute_input": "2022-02-24T15:06:20.497564Z",
          "iopub.status.busy": "2022-02-24T15:06:20.496811Z",
          "iopub.status.idle": "2022-02-24T15:06:20.558489Z",
          "shell.execute_reply": "2022-02-24T15:06:20.559240Z",
          "shell.execute_reply.started": "2022-02-24T06:12:37.824044Z"
        },
        "papermill": {
          "duration": 0.093051,
          "end_time": "2022-02-24T15:06:20.559478",
          "exception": false,
          "start_time": "2022-02-24T15:06:20.466427",
          "status": "completed"
        },
        "tags": [],
        "id": "c3ea15e1"
      },
      "outputs": [],
      "source": [
        "from sklearn.preprocessing import LabelEncoder\n",
        "encoder = LabelEncoder()\n",
        "df[\"target\"] = encoder.fit_transform(df['target'])"
      ]
    },
    {
      "cell_type": "code",
      "execution_count": null,
      "id": "f8ce2b09",
      "metadata": {
        "execution": {
          "iopub.execute_input": "2022-02-24T15:06:20.624226Z",
          "iopub.status.busy": "2022-02-24T15:06:20.622758Z",
          "iopub.status.idle": "2022-02-24T15:06:20.626116Z",
          "shell.execute_reply": "2022-02-24T15:06:20.626669Z",
          "shell.execute_reply.started": "2022-02-24T06:12:37.885978Z"
        },
        "papermill": {
          "duration": 0.039026,
          "end_time": "2022-02-24T15:06:20.626845",
          "exception": false,
          "start_time": "2022-02-24T15:06:20.587819",
          "status": "completed"
        },
        "tags": [],
        "id": "f8ce2b09"
      },
      "outputs": [],
      "source": [
        "TARGET=\"target\""
      ]
    },
    {
      "cell_type": "markdown",
      "id": "f7faf699",
      "metadata": {
        "papermill": {
          "duration": 0.026591,
          "end_time": "2022-02-24T15:06:20.681740",
          "exception": false,
          "start_time": "2022-02-24T15:06:20.655149",
          "status": "completed"
        },
        "tags": [],
        "id": "f7faf699"
      },
      "source": [
        "# Modelling Lgbm Classifier"
      ]
    },
    {
      "cell_type": "code",
      "execution_count": null,
      "id": "2647c197",
      "metadata": {
        "execution": {
          "iopub.execute_input": "2022-02-24T15:06:20.742639Z",
          "iopub.status.busy": "2022-02-24T15:06:20.741814Z",
          "iopub.status.idle": "2022-02-24T15:06:20.747232Z",
          "shell.execute_reply": "2022-02-24T15:06:20.747795Z",
          "shell.execute_reply.started": "2022-02-24T06:12:37.892617Z"
        },
        "papermill": {
          "duration": 0.03821,
          "end_time": "2022-02-24T15:06:20.747998",
          "exception": false,
          "start_time": "2022-02-24T15:06:20.709788",
          "status": "completed"
        },
        "tags": [],
        "id": "2647c197"
      },
      "outputs": [],
      "source": [
        "# import time\n",
        "# lgb_params = {\n",
        "#     'objective' : 'multiclass',\n",
        "#     'metric' : 'multi_logloss',\n",
        "#     'device' : 'gpu',\n",
        "# }\n",
        "\n",
        "\n",
        "# lgb_predictions = []\n",
        "# lgb_scores = []\n",
        "# lgb_fimp = []\n",
        "\n",
        "# skf = StratifiedKFold(n_splits=5, shuffle=True, random_state=28)\n",
        "# for fold, (train_idx, valid_idx) in enumerate(skf.split(train_set, df[TARGET])):\n",
        "    \n",
        "#     print(10*\"=\", f\"Fold={fold+1}\", 10*\"=\")\n",
        "#     start_time = time.time()\n",
        "    \n",
        "#     X_train, X_valid = train_set.iloc[train_idx], train_set.iloc[valid_idx]\n",
        "#     y_train , y_valid = df[TARGET].iloc[train_idx] , df[TARGET].iloc[valid_idx]\n",
        "    \n",
        "#     model = LGBMClassifier(**lgb_params)\n",
        "#     model.fit(X_train, y_train,verbose=0)\n",
        "    \n",
        "#     preds_valid = model.predict(X_valid)\n",
        "#     acc = accuracy_score(y_valid,  preds_valid)\n",
        "#     lgb_scores.append(acc)\n",
        "#     run_time = time.time() - start_time\n",
        "    \n",
        "#     print(f\"Fold={fold+1}, Accuracy: {acc:.2f}, Run Time: {run_time:.2f}s\")\n",
        "#     fim = pd.DataFrame(index=FEATURES,\n",
        "#                  data=model.feature_importances_,\n",
        "#                  columns=[f'{fold}_importance'])\n",
        "#     lgb_fimp.append(fim)\n",
        "#     test_preds = model.predict(test[FEATURES])\n",
        "#     lgb_predictions.append(test_preds)\n",
        "    \n",
        "# print(\"Mean Accuracy :\", np.mean(lgb_scores))"
      ]
    },
    {
      "cell_type": "markdown",
      "id": "498d8b7d",
      "metadata": {
        "papermill": {
          "duration": 0.025887,
          "end_time": "2022-02-24T15:06:20.800152",
          "exception": false,
          "start_time": "2022-02-24T15:06:20.774265",
          "status": "completed"
        },
        "tags": [],
        "id": "498d8b7d"
      },
      "source": [
        "# Modelling ExtraTreeClassifier()"
      ]
    },
    {
      "cell_type": "code",
      "execution_count": null,
      "id": "ea00659e",
      "metadata": {
        "execution": {
          "iopub.execute_input": "2022-02-24T15:06:20.857952Z",
          "iopub.status.busy": "2022-02-24T15:06:20.857221Z",
          "iopub.status.idle": "2022-02-24T15:38:50.786087Z",
          "shell.execute_reply": "2022-02-24T15:38:50.786818Z",
          "shell.execute_reply.started": "2022-02-24T06:12:37.906658Z"
        },
        "jupyter": {
          "source_hidden": true
        },
        "papermill": {
          "duration": 1949.959625,
          "end_time": "2022-02-24T15:38:50.787211",
          "exception": false,
          "start_time": "2022-02-24T15:06:20.827586",
          "status": "completed"
        },
        "tags": [],
        "id": "ea00659e",
        "outputId": "44b89bf8-3c6b-4aa0-f9a9-267c1765e339"
      },
      "outputs": [
        {
          "name": "stdout",
          "output_type": "stream",
          "text": [
            "========== Fold=1 ==========\n",
            "Fold=1, Accuracy: 0.995525, Run Time: 375.80s\n",
            "========== Fold=2 ==========\n",
            "Fold=2, Accuracy: 0.996575, Run Time: 379.01s\n",
            "========== Fold=3 ==========\n",
            "Fold=3, Accuracy: 0.9957, Run Time: 393.52s\n",
            "========== Fold=4 ==========\n",
            "Fold=4, Accuracy: 0.99535, Run Time: 373.86s\n",
            "========== Fold=5 ==========\n",
            "Fold=5, Accuracy: 0.9957, Run Time: 393.52s\n",
            "Mean Accuracy : 0.99577\n"
          ]
        }
      ],
      "source": [
        "import time\n",
        "# lgb_params = {\n",
        "#     'objective' : 'multiclass',\n",
        "#     'metric' : 'multi_logloss',\n",
        "#     'device' : 'gpu',\n",
        "# }\n",
        "\n",
        "\n",
        "etc_predictions = []\n",
        "etc_scores = []\n",
        "etc_fimp = []\n",
        "\n",
        "skf = StratifiedKFold(n_splits=5, shuffle=True, random_state=28)\n",
        "for fold, (train_idx, valid_idx) in enumerate(skf.split(train_set, df[TARGET])):\n",
        "    \n",
        "    print(10*\"=\", f\"Fold={fold+1}\", 10*\"=\")\n",
        "    start_time = time.time()\n",
        "    \n",
        "    X_train, X_valid = train_set.iloc[train_idx], train_set.iloc[valid_idx]\n",
        "    y_train , y_valid = df[TARGET].iloc[train_idx] , df[TARGET].iloc[valid_idx]\n",
        "    \n",
        "    model = ExtraTreesClassifier(n_estimators=1111, n_jobs=-1,random_state=28)\n",
        "    model.fit(X_train, y_train)\n",
        "    \n",
        "    preds_valid = model.predict(X_valid)\n",
        "    acc = accuracy_score(y_valid,  preds_valid)\n",
        "    etc_scores.append(acc)\n",
        "    run_time = time.time() - start_time\n",
        "    \n",
        "    print(f\"Fold={fold+1}, Accuracy: {acc}, Run Time: {run_time:.2f}s\")\n",
        "    fim = pd.DataFrame(index=FEATURES,\n",
        "                 data=model.feature_importances_,\n",
        "                 columns=[f'{fold}_importance'])\n",
        "    etc_fimp.append(fim)\n",
        "    test_preds = model.predict(test[FEATURES])\n",
        "    etc_predictions.append(test_preds)\n",
        "    \n",
        "print(\"Mean Accuracy :\", np.mean(etc_scores))"
      ]
    },
    {
      "cell_type": "code",
      "execution_count": null,
      "id": "9077b27a",
      "metadata": {
        "execution": {
          "iopub.execute_input": "2022-02-24T15:38:50.852910Z",
          "iopub.status.busy": "2022-02-24T15:38:50.852182Z",
          "iopub.status.idle": "2022-02-24T17:47:48.884706Z",
          "shell.execute_reply": "2022-02-24T17:47:48.886201Z"
        },
        "papermill": {
          "duration": 7738.069673,
          "end_time": "2022-02-24T17:47:48.887280",
          "exception": false,
          "start_time": "2022-02-24T15:38:50.817607",
          "status": "completed"
        },
        "tags": [],
        "id": "9077b27a",
        "outputId": "483bfd96-5231-4e1e-a130-a3212b943aac"
      },
      "outputs": [
        {
          "name": "stdout",
          "output_type": "stream",
          "text": [
            "========== Fold=1 ==========\n",
            "Fold=1, Accuracy: 0.99695, Run Time: 788.15s\n",
            "========== Fold=2 ==========\n",
            "Fold=2, Accuracy: 0.9961, Run Time: 780.26s\n",
            "========== Fold=3 ==========\n",
            "Fold=3, Accuracy: 0.9974, Run Time: 754.18s\n",
            "========== Fold=4 ==========\n",
            "Fold=4, Accuracy: 0.9975, Run Time: 788.10s\n",
            "========== Fold=5 ==========\n",
            "Fold=5, Accuracy: 0.9963, Run Time: 754.70s\n",
            "========== Fold=6 ==========\n",
            "Fold=6, Accuracy: 0.99625, Run Time: 748.47s\n",
            "========== Fold=7 ==========\n",
            "Fold=7, Accuracy: 0.99695, Run Time: 767.06s\n",
            "========== Fold=8 ==========\n",
            "Fold=8, Accuracy: 0.9964, Run Time: 741.00s\n",
            "========== Fold=9 ==========\n",
            "Fold=9, Accuracy: 0.99665, Run Time: 755.09s\n",
            "========== Fold=10 ==========\n",
            "Fold=10, Accuracy: 0.99655, Run Time: 740.98s\n",
            "Mean Accuracy : 0.9967050000000001\n"
          ]
        }
      ],
      "source": [
        "import time\n",
        "# lgb_params = {\n",
        "#     'objective' : 'multiclass',\n",
        "#     'metric' : 'multi_logloss',\n",
        "#     'device' : 'gpu',\n",
        "# }\n",
        "\n",
        "\n",
        "etc_predictions = []\n",
        "etc_scores = []\n",
        "etc_fimp = []\n",
        "\n",
        "skf = StratifiedKFold(n_splits=10, shuffle=True, random_state=28)\n",
        "for fold, (train_idx, valid_idx) in enumerate(skf.split(train_set, df[TARGET])):\n",
        "    \n",
        "    print(10*\"=\", f\"Fold={fold+1}\", 10*\"=\")\n",
        "    start_time = time.time()\n",
        "    \n",
        "    X_train, X_valid = train_set.iloc[train_idx], train_set.iloc[valid_idx]\n",
        "    y_train , y_valid = df[TARGET].iloc[train_idx] , df[TARGET].iloc[valid_idx]\n",
        "    \n",
        "    model = ExtraTreesClassifier(n_estimators=2000, n_jobs=-1,random_state=28)\n",
        "    model.fit(X_train, y_train)\n",
        "    \n",
        "    preds_valid = model.predict(X_valid)\n",
        "    acc = accuracy_score(y_valid,  preds_valid)\n",
        "    etc_scores.append(acc)\n",
        "    run_time = time.time() - start_time\n",
        "    \n",
        "    print(f\"Fold={fold+1}, Accuracy: {acc}, Run Time: {run_time:.2f}s\")\n",
        "    fim = pd.DataFrame(index=FEATURES,\n",
        "                 data=model.feature_importances_,\n",
        "                 columns=[f'{fold}_importance'])\n",
        "    etc_fimp.append(fim)\n",
        "    test_preds = model.predict(test[FEATURES])\n",
        "    etc_predictions.append(test_preds)\n",
        "    \n",
        "print(\"Mean Accuracy :\", np.mean(etc_scores))"
      ]
    },
    {
      "cell_type": "code",
      "execution_count": null,
      "id": "3d1f06f2",
      "metadata": {
        "execution": {
          "iopub.execute_input": "2022-02-24T17:47:48.981778Z",
          "iopub.status.busy": "2022-02-24T17:47:48.980716Z",
          "iopub.status.idle": "2022-02-24T17:48:27.494840Z",
          "shell.execute_reply": "2022-02-24T17:48:27.494119Z",
          "shell.execute_reply.started": "2022-02-23T12:03:54.886737Z"
        },
        "papermill": {
          "duration": 38.568446,
          "end_time": "2022-02-24T17:48:27.495008",
          "exception": false,
          "start_time": "2022-02-24T17:47:48.926562",
          "status": "completed"
        },
        "tags": [],
        "id": "3d1f06f2"
      },
      "outputs": [],
      "source": [
        "pre=model.predict(test_set)"
      ]
    },
    {
      "cell_type": "code",
      "execution_count": null,
      "id": "0be8548e",
      "metadata": {
        "execution": {
          "iopub.execute_input": "2022-02-24T17:48:27.574805Z",
          "iopub.status.busy": "2022-02-24T17:48:27.574004Z",
          "iopub.status.idle": "2022-02-24T17:48:27.592981Z",
          "shell.execute_reply": "2022-02-24T17:48:27.593591Z",
          "shell.execute_reply.started": "2022-02-23T12:04:41.548051Z"
        },
        "papermill": {
          "duration": 0.060116,
          "end_time": "2022-02-24T17:48:27.593777",
          "exception": false,
          "start_time": "2022-02-24T17:48:27.533661",
          "status": "completed"
        },
        "tags": [],
        "id": "0be8548e"
      },
      "outputs": [],
      "source": [
        "s=sub.copy()\n",
        "s[\"target\"]= encoder.inverse_transform(pre)"
      ]
    },
    {
      "cell_type": "code",
      "execution_count": null,
      "id": "c27e6371",
      "metadata": {
        "execution": {
          "iopub.execute_input": "2022-02-24T17:48:27.678255Z",
          "iopub.status.busy": "2022-02-24T17:48:27.677374Z",
          "iopub.status.idle": "2022-02-24T17:48:27.946993Z",
          "shell.execute_reply": "2022-02-24T17:48:27.946368Z",
          "shell.execute_reply.started": "2022-02-23T12:05:13.977569Z"
        },
        "papermill": {
          "duration": 0.315668,
          "end_time": "2022-02-24T17:48:27.947140",
          "exception": false,
          "start_time": "2022-02-24T17:48:27.631472",
          "status": "completed"
        },
        "tags": [],
        "id": "c27e6371"
      },
      "outputs": [],
      "source": [
        "s.to_csv(\"submission.csv\",index=False)"
      ]
    },
    {
      "cell_type": "code",
      "execution_count": null,
      "id": "41905dda",
      "metadata": {
        "papermill": {
          "duration": 0.036999,
          "end_time": "2022-02-24T17:48:28.021882",
          "exception": false,
          "start_time": "2022-02-24T17:48:27.984883",
          "status": "completed"
        },
        "tags": [],
        "id": "41905dda"
      },
      "outputs": [],
      "source": [
        ""
      ]
    }
  ],
  "metadata": {
    "kernelspec": {
      "display_name": "Python 3",
      "language": "python",
      "name": "python3"
    },
    "language_info": {
      "codemirror_mode": {
        "name": "ipython",
        "version": 3
      },
      "file_extension": ".py",
      "mimetype": "text/x-python",
      "name": "python",
      "nbconvert_exporter": "python",
      "pygments_lexer": "ipython3",
      "version": "3.7.12"
    },
    "papermill": {
      "default_parameters": {},
      "duration": 9862.301487,
      "end_time": "2022-02-24T17:48:30.858914",
      "environment_variables": {},
      "exception": null,
      "input_path": "__notebook__.ipynb",
      "output_path": "__notebook__.ipynb",
      "parameters": {},
      "start_time": "2022-02-24T15:04:08.557427",
      "version": "2.3.3"
    },
    "colab": {
      "name": "Bacteria_clf.ipynb",
      "provenance": [],
      "include_colab_link": true
    }
  },
  "nbformat": 4,
  "nbformat_minor": 5
}