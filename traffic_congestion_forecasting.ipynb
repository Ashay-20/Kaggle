{
  "cells": [
    {
      "cell_type": "markdown",
      "metadata": {
        "id": "view-in-github",
        "colab_type": "text"
      },
      "source": [
        "<a href=\"https://colab.research.google.com/github/Ashay-20/Kaggle/blob/main/traffic_congestion_forecasting.ipynb\" target=\"_parent\"><img src=\"https://colab.research.google.com/assets/colab-badge.svg\" alt=\"Open In Colab\"/></a>"
      ]
    },
    {
      "cell_type": "code",
      "execution_count": null,
      "id": "021a477f",
      "metadata": {
        "_cell_guid": "b1076dfc-b9ad-4769-8c92-a6c4dae69d19",
        "_uuid": "8f2839f25d086af736a60e9eeb907d3b93b6e0e5",
        "execution": {
          "iopub.execute_input": "2022-03-02T09:38:14.632613Z",
          "iopub.status.busy": "2022-03-02T09:38:14.631133Z",
          "iopub.status.idle": "2022-03-02T09:38:15.728581Z",
          "shell.execute_reply": "2022-03-02T09:38:15.727954Z",
          "shell.execute_reply.started": "2022-03-02T09:34:09.743028Z"
        },
        "papermill": {
          "duration": 1.123287,
          "end_time": "2022-03-02T09:38:15.728786",
          "exception": false,
          "start_time": "2022-03-02T09:38:14.605499",
          "status": "completed"
        },
        "tags": [],
        "id": "021a477f",
        "outputId": "74ebdad9-a504-47f2-fc31-1ca16f348b3e"
      },
      "outputs": [
        {
          "name": "stdout",
          "output_type": "stream",
          "text": [
            "/kaggle/input/tabular-playground-series-mar-2022/sample_submission.csv\n",
            "/kaggle/input/tabular-playground-series-mar-2022/train.csv\n",
            "/kaggle/input/tabular-playground-series-mar-2022/test.csv\n"
          ]
        }
      ],
      "source": [
        "# This Python 3 environment comes with many helpful analytics libraries installed\n",
        "# It is defined by the kaggle/python Docker image: https://github.com/kaggle/docker-python\n",
        "# For example, here's several helpful packages to load\n",
        "\n",
        "import numpy as np # linear algebra\n",
        "import pandas as pd # data processing, CSV file I/O (e.g. pd.read_csv)\n",
        "import matplotlib.pyplot as plt\n",
        "from sklearn.preprocessing import OneHotEncoder, StandardScaler\n",
        "from matplotlib.ticker import MaxNLocator\n",
        "from sklearn.metrics import mean_absolute_error, mean_squared_error\n",
        "from sklearn.model_selection import train_test_split\n",
        "import seaborn as sns\n",
        "from xgboost import XGBRegressor\n",
        "# Input data files are available in the read-only \"../input/\" directory\n",
        "# For example, running this (by clicking run or pressing Shift+Enter) will list all files under the input directory\n",
        "\n",
        "import os\n",
        "for dirname, _, filenames in os.walk('/kaggle/input'):\n",
        "    for filename in filenames:\n",
        "        print(os.path.join(dirname, filename))\n",
        "\n",
        "# You can write up to 20GB to the current directory (/kaggle/working/) that gets preserved as output when you create a version using \"Save & Run All\" \n",
        "# You can also write temporary files to /kaggle/temp/, but they won't be saved outside of the current session"
      ]
    },
    {
      "cell_type": "code",
      "execution_count": null,
      "id": "9eca6500",
      "metadata": {
        "execution": {
          "iopub.execute_input": "2022-03-02T09:38:15.779152Z",
          "iopub.status.busy": "2022-03-02T09:38:15.778547Z",
          "iopub.status.idle": "2022-03-02T09:38:16.550036Z",
          "shell.execute_reply": "2022-03-02T09:38:16.550496Z",
          "shell.execute_reply.started": "2022-03-02T09:34:10.789342Z"
        },
        "papermill": {
          "duration": 0.797677,
          "end_time": "2022-03-02T09:38:16.550661",
          "exception": false,
          "start_time": "2022-03-02T09:38:15.752984",
          "status": "completed"
        },
        "tags": [],
        "id": "9eca6500"
      },
      "outputs": [],
      "source": [
        "df=pd.read_csv(\"../input/tabular-playground-series-mar-2022/train.csv\")\n",
        "test=pd.read_csv(\"../input/tabular-playground-series-mar-2022/test.csv\")\n",
        "sub=pd.read_csv(\"../input/tabular-playground-series-mar-2022/sample_submission.csv\")\n"
      ]
    },
    {
      "cell_type": "markdown",
      "id": "c6642b33",
      "metadata": {
        "papermill": {
          "duration": 0.020949,
          "end_time": "2022-03-02T09:38:16.593322",
          "exception": false,
          "start_time": "2022-03-02T09:38:16.572373",
          "status": "completed"
        },
        "tags": [],
        "id": "c6642b33"
      },
      "source": [
        "# Reduce Memory usage"
      ]
    },
    {
      "cell_type": "code",
      "execution_count": null,
      "id": "00e1550c",
      "metadata": {
        "execution": {
          "iopub.execute_input": "2022-03-02T09:38:16.657439Z",
          "iopub.status.busy": "2022-03-02T09:38:16.656575Z",
          "iopub.status.idle": "2022-03-02T09:38:16.883578Z",
          "shell.execute_reply": "2022-03-02T09:38:16.884011Z",
          "shell.execute_reply.started": "2022-03-02T09:34:11.492021Z"
        },
        "papermill": {
          "duration": 0.269799,
          "end_time": "2022-03-02T09:38:16.884193",
          "exception": false,
          "start_time": "2022-03-02T09:38:16.614394",
          "status": "completed"
        },
        "tags": [],
        "id": "00e1550c",
        "outputId": "1b101a4c-8dee-4d60-a008-3493354c94af"
      },
      "outputs": [
        {
          "name": "stdout",
          "output_type": "stream",
          "text": [
            "Mem. usage decreased to  8.70 Mb (77.6% reduction)\n",
            "Mem. usage decreased to  0.02 Mb (78.1% reduction)\n"
          ]
        },
        {
          "data": {
            "text/html": [
              "<div>\n",
              "<style scoped>\n",
              "    .dataframe tbody tr th:only-of-type {\n",
              "        vertical-align: middle;\n",
              "    }\n",
              "\n",
              "    .dataframe tbody tr th {\n",
              "        vertical-align: top;\n",
              "    }\n",
              "\n",
              "    .dataframe thead th {\n",
              "        text-align: right;\n",
              "    }\n",
              "</style>\n",
              "<table border=\"1\" class=\"dataframe\">\n",
              "  <thead>\n",
              "    <tr style=\"text-align: right;\">\n",
              "      <th></th>\n",
              "      <th>row_id</th>\n",
              "      <th>time</th>\n",
              "      <th>x</th>\n",
              "      <th>y</th>\n",
              "      <th>direction</th>\n",
              "    </tr>\n",
              "  </thead>\n",
              "  <tbody>\n",
              "    <tr>\n",
              "      <th>0</th>\n",
              "      <td>848835</td>\n",
              "      <td>1991-09-30 12:00:00</td>\n",
              "      <td>0</td>\n",
              "      <td>0</td>\n",
              "      <td>EB</td>\n",
              "    </tr>\n",
              "    <tr>\n",
              "      <th>1</th>\n",
              "      <td>848836</td>\n",
              "      <td>1991-09-30 12:00:00</td>\n",
              "      <td>0</td>\n",
              "      <td>0</td>\n",
              "      <td>NB</td>\n",
              "    </tr>\n",
              "    <tr>\n",
              "      <th>2</th>\n",
              "      <td>848837</td>\n",
              "      <td>1991-09-30 12:00:00</td>\n",
              "      <td>0</td>\n",
              "      <td>0</td>\n",
              "      <td>SB</td>\n",
              "    </tr>\n",
              "    <tr>\n",
              "      <th>3</th>\n",
              "      <td>848838</td>\n",
              "      <td>1991-09-30 12:00:00</td>\n",
              "      <td>0</td>\n",
              "      <td>1</td>\n",
              "      <td>EB</td>\n",
              "    </tr>\n",
              "    <tr>\n",
              "      <th>4</th>\n",
              "      <td>848839</td>\n",
              "      <td>1991-09-30 12:00:00</td>\n",
              "      <td>0</td>\n",
              "      <td>1</td>\n",
              "      <td>NB</td>\n",
              "    </tr>\n",
              "    <tr>\n",
              "      <th>...</th>\n",
              "      <td>...</td>\n",
              "      <td>...</td>\n",
              "      <td>...</td>\n",
              "      <td>...</td>\n",
              "      <td>...</td>\n",
              "    </tr>\n",
              "    <tr>\n",
              "      <th>2335</th>\n",
              "      <td>851170</td>\n",
              "      <td>1991-09-30 23:40:00</td>\n",
              "      <td>2</td>\n",
              "      <td>3</td>\n",
              "      <td>NB</td>\n",
              "    </tr>\n",
              "    <tr>\n",
              "      <th>2336</th>\n",
              "      <td>851171</td>\n",
              "      <td>1991-09-30 23:40:00</td>\n",
              "      <td>2</td>\n",
              "      <td>3</td>\n",
              "      <td>NE</td>\n",
              "    </tr>\n",
              "    <tr>\n",
              "      <th>2337</th>\n",
              "      <td>851172</td>\n",
              "      <td>1991-09-30 23:40:00</td>\n",
              "      <td>2</td>\n",
              "      <td>3</td>\n",
              "      <td>SB</td>\n",
              "    </tr>\n",
              "    <tr>\n",
              "      <th>2338</th>\n",
              "      <td>851173</td>\n",
              "      <td>1991-09-30 23:40:00</td>\n",
              "      <td>2</td>\n",
              "      <td>3</td>\n",
              "      <td>SW</td>\n",
              "    </tr>\n",
              "    <tr>\n",
              "      <th>2339</th>\n",
              "      <td>851174</td>\n",
              "      <td>1991-09-30 23:40:00</td>\n",
              "      <td>2</td>\n",
              "      <td>3</td>\n",
              "      <td>WB</td>\n",
              "    </tr>\n",
              "  </tbody>\n",
              "</table>\n",
              "<p>2340 rows × 5 columns</p>\n",
              "</div>"
            ],
            "text/plain": [
              "      row_id                 time  x  y direction\n",
              "0     848835  1991-09-30 12:00:00  0  0        EB\n",
              "1     848836  1991-09-30 12:00:00  0  0        NB\n",
              "2     848837  1991-09-30 12:00:00  0  0        SB\n",
              "3     848838  1991-09-30 12:00:00  0  1        EB\n",
              "4     848839  1991-09-30 12:00:00  0  1        NB\n",
              "...      ...                  ... .. ..       ...\n",
              "2335  851170  1991-09-30 23:40:00  2  3        NB\n",
              "2336  851171  1991-09-30 23:40:00  2  3        NE\n",
              "2337  851172  1991-09-30 23:40:00  2  3        SB\n",
              "2338  851173  1991-09-30 23:40:00  2  3        SW\n",
              "2339  851174  1991-09-30 23:40:00  2  3        WB\n",
              "\n",
              "[2340 rows x 5 columns]"
            ]
          },
          "execution_count": 3,
          "metadata": {},
          "output_type": "execute_result"
        }
      ],
      "source": [
        "def reduce_mem_usage(df, verbose=True):\n",
        "    numerics = ['int16', 'int32', 'int64', 'float16', 'float32', 'float64']\n",
        "    start_mem = df.memory_usage().sum() / 1024**2    \n",
        "    for col in df.columns:\n",
        "        col_type = df[col].dtypes\n",
        "        if col_type in numerics:\n",
        "            c_min = df[col].min()\n",
        "            c_max = df[col].max()\n",
        "            if str(col_type)[:3] == 'int':\n",
        "                if c_min > np.iinfo(np.int8).min and c_max < np.iinfo(np.int8).max:\n",
        "                    df[col] = df[col].astype(np.int8)\n",
        "                elif c_min > np.iinfo(np.int16).min and c_max < np.iinfo(np.int16).max:\n",
        "                    df[col] = df[col].astype(np.int16)\n",
        "                elif c_min > np.iinfo(np.int32).min and c_max < np.iinfo(np.int32).max:\n",
        "                    df[col] = df[col].astype(np.int32)\n",
        "                elif c_min > np.iinfo(np.int64).min and c_max < np.iinfo(np.int64).max:\n",
        "                    df[col] = df[col].astype(np.int64)  \n",
        "            else:\n",
        "                if c_min > np.finfo(np.float16).min and c_max < np.finfo(np.float16).max:\n",
        "                    df[col] = df[col].astype(np.float16)\n",
        "                elif c_min > np.finfo(np.float32).min and c_max < np.finfo(np.float32).max:\n",
        "                    df[col] = df[col].astype(np.float32)\n",
        "                else:\n",
        "                    df[col] = df[col].astype(np.float64)  \n",
        "        else:\n",
        "            df[col] = df[col].astype('category')\n",
        "    end_mem = df.memory_usage().sum() / 1024**2\n",
        "    if verbose: print('Mem. usage decreased to {:5.2f} Mb ({:.1f}% reduction)'.format(end_mem, 100 * (start_mem - end_mem) / start_mem))\n",
        "    return df\n",
        "reduce_mem_usage(df)\n",
        "reduce_mem_usage(test)"
      ]
    },
    {
      "cell_type": "markdown",
      "id": "644e472d",
      "metadata": {
        "papermill": {
          "duration": 0.021905,
          "end_time": "2022-03-02T09:38:16.928113",
          "exception": false,
          "start_time": "2022-03-02T09:38:16.906208",
          "status": "completed"
        },
        "tags": [],
        "id": "644e472d"
      },
      "source": [
        "# Adding Date Time features"
      ]
    },
    {
      "cell_type": "code",
      "execution_count": null,
      "id": "92f38f3d",
      "metadata": {
        "execution": {
          "iopub.execute_input": "2022-03-02T09:38:16.980650Z",
          "iopub.status.busy": "2022-03-02T09:38:16.979809Z",
          "iopub.status.idle": "2022-03-02T09:38:17.521239Z",
          "shell.execute_reply": "2022-03-02T09:38:17.520519Z",
          "shell.execute_reply.started": "2022-03-02T09:34:11.739923Z"
        },
        "papermill": {
          "duration": 0.56975,
          "end_time": "2022-03-02T09:38:17.521427",
          "exception": false,
          "start_time": "2022-03-02T09:38:16.951677",
          "status": "completed"
        },
        "tags": [],
        "id": "92f38f3d"
      },
      "outputs": [],
      "source": [
        "def features_new(df,cl):\n",
        "    df[cl] = pd.to_datetime(df[cl])\n",
        "    df[\"month\"]=df.time.dt.month\n",
        "    df[\"day\"]=df.time.dt.day\n",
        "    df[\"hour\"]=df.time.dt.hour+(df.time.dt.minute)/60\n",
        "    df[\"weekday\"]=df.time.dt.weekday\n",
        "    df[\"day of year\"]=df.time.dt.dayofyear\n",
        "features_new(df,'time')\n",
        "features_new(test,'time')"
      ]
    },
    {
      "cell_type": "markdown",
      "id": "56299e6d",
      "metadata": {
        "papermill": {
          "duration": 0.035065,
          "end_time": "2022-03-02T09:38:17.594451",
          "exception": false,
          "start_time": "2022-03-02T09:38:17.559386",
          "status": "completed"
        },
        "tags": [],
        "id": "56299e6d"
      },
      "source": [
        "# Adding weekend ⛪🏡 *Saturday* and *Sunday* as features"
      ]
    },
    {
      "cell_type": "code",
      "execution_count": null,
      "id": "3a4d21bb",
      "metadata": {
        "execution": {
          "iopub.execute_input": "2022-03-02T09:38:17.678854Z",
          "iopub.status.busy": "2022-03-02T09:38:17.678058Z",
          "iopub.status.idle": "2022-03-02T09:38:17.685963Z",
          "shell.execute_reply": "2022-03-02T09:38:17.686970Z",
          "shell.execute_reply.started": "2022-03-02T09:34:12.211097Z"
        },
        "papermill": {
          "duration": 0.057635,
          "end_time": "2022-03-02T09:38:17.687176",
          "exception": false,
          "start_time": "2022-03-02T09:38:17.629541",
          "status": "completed"
        },
        "tags": [],
        "id": "3a4d21bb"
      },
      "outputs": [],
      "source": [
        "\n",
        "df['sunday'] = np.where(df['weekday']==6,1, 0)\n",
        "df['saturday'] = np.where(df['weekday']==5,1, 0)\n",
        "\n",
        "test['sunday'] = np.where(test['weekday']==6,1, 0)\n",
        "test['saturday'] = np.where(test['weekday']==5,1, 0)\n"
      ]
    },
    {
      "cell_type": "markdown",
      "id": "86bed080",
      "metadata": {
        "papermill": {
          "duration": 0.034966,
          "end_time": "2022-03-02T09:38:17.758043",
          "exception": false,
          "start_time": "2022-03-02T09:38:17.723077",
          "status": "completed"
        },
        "tags": [],
        "id": "86bed080"
      },
      "source": [
        "# Plotting Bar chart for congestion🚗🚙🚔\n",
        "* It can be observed from plot that some values have higher congestion than their neighbouring values.\n",
        "    * Values with traffic **🚗🚗🚙** **congestion=15,20,21,29,34** has much higher count than its neighbours.    "
      ]
    },
    {
      "cell_type": "code",
      "execution_count": null,
      "id": "3ae11bf5",
      "metadata": {
        "execution": {
          "iopub.execute_input": "2022-03-02T09:38:17.836937Z",
          "iopub.status.busy": "2022-03-02T09:38:17.836002Z",
          "iopub.status.idle": "2022-03-02T09:38:18.261910Z",
          "shell.execute_reply": "2022-03-02T09:38:18.262333Z",
          "shell.execute_reply.started": "2022-03-02T09:34:12.229477Z"
        },
        "papermill": {
          "duration": 0.469475,
          "end_time": "2022-03-02T09:38:18.262488",
          "exception": false,
          "start_time": "2022-03-02T09:38:17.793013",
          "status": "completed"
        },
        "tags": [],
        "id": "3ae11bf5",
        "outputId": "71f86c1e-04e6-4edb-f3c3-2eb2db8279c7"
      },
      "outputs": [
        {
          "data": {
            "text/plain": [
              "Text(0.5, 0, 'Congestion')"
            ]
          },
          "execution_count": 6,
          "metadata": {},
          "output_type": "execute_result"
        },
        {
          "data": {
            "image/png": "[encoded data removed]",
            "text/plain": [
              "<Figure size 1440x432 with 1 Axes>"
            ]
          },
          "metadata": {
            "needs_background": "light"
          },
          "output_type": "display_data"
        }
      ],
      "source": [
        "plt.figure(figsize=(20, 6))\n",
        "plt.bar(range(101), df.congestion.value_counts().sort_index(), width=1,\n",
        "        color=['gold' if con in [15, 20, 21, 29, 34] else 'coral' for con in range(101)])\n",
        "plt.title(\"Congestion count plot\")\n",
        "plt.xlabel(\"Congestion\")"
      ]
    },
    {
      "cell_type": "markdown",
      "id": "f909a8aa",
      "metadata": {
        "papermill": {
          "duration": 0.022789,
          "end_time": "2022-03-02T09:38:18.308397",
          "exception": false,
          "start_time": "2022-03-02T09:38:18.285608",
          "status": "completed"
        },
        "tags": [],
        "id": "f909a8aa"
      },
      "source": [
        "# Dependence of congestion 🚗🚙 on time of day\n",
        "* Maximum traffic congestion is at 5:00 P.M\n",
        "* Minimum traffic congestion is at 4:00 A.M"
      ]
    },
    {
      "cell_type": "code",
      "execution_count": null,
      "id": "e4cb0a0a",
      "metadata": {
        "_kg_hide-output": false,
        "execution": {
          "iopub.execute_input": "2022-03-02T09:38:18.360725Z",
          "iopub.status.busy": "2022-03-02T09:38:18.360011Z",
          "iopub.status.idle": "2022-03-02T09:38:18.783736Z",
          "shell.execute_reply": "2022-03-02T09:38:18.784138Z",
          "shell.execute_reply.started": "2022-03-02T09:34:12.628047Z"
        },
        "papermill": {
          "duration": 0.453249,
          "end_time": "2022-03-02T09:38:18.784291",
          "exception": false,
          "start_time": "2022-03-02T09:38:18.331042",
          "status": "completed"
        },
        "tags": [],
        "id": "e4cb0a0a",
        "outputId": "1bfe4e02-b123-43eb-e1f8-97961669ae04"
      },
      "outputs": [
        {
          "data": {
            "image/png": "[encoded data removed]",
            "text/plain": [
              "<Figure size 1296x432 with 1 Axes>"
            ]
          },
          "metadata": {
            "needs_background": "light"
          },
          "output_type": "display_data"
        }
      ],
      "source": [
        "\n",
        "plt.figure(figsize=(18, 6))\n",
        "plt.bar(df.groupby(df.time.dt.hour).congestion.mean().index,df.groupby(df.time.dt.hour).congestion.mean(),color=\"coral\")\n",
        "plt.xticks(range(24))\n",
        "plt.ylabel(\"congestion\")\n",
        "plt.title(\"Congestion on time\")\n",
        "plt.show()"
      ]
    },
    {
      "cell_type": "markdown",
      "id": "98b83f77",
      "metadata": {
        "papermill": {
          "duration": 0.025098,
          "end_time": "2022-03-02T09:38:18.833448",
          "exception": false,
          "start_time": "2022-03-02T09:38:18.808350",
          "status": "completed"
        },
        "tags": [],
        "id": "98b83f77"
      },
      "source": [
        "# Traffic 🚗🚙 Congestion on Date"
      ]
    },
    {
      "cell_type": "code",
      "execution_count": null,
      "id": "ecff5948",
      "metadata": {
        "execution": {
          "iopub.execute_input": "2022-03-02T09:38:18.893523Z",
          "iopub.status.busy": "2022-03-02T09:38:18.892595Z",
          "iopub.status.idle": "2022-03-02T09:38:20.837012Z",
          "shell.execute_reply": "2022-03-02T09:38:20.836501Z",
          "shell.execute_reply.started": "2022-03-02T09:34:13.128527Z"
        },
        "papermill": {
          "duration": 1.975008,
          "end_time": "2022-03-02T09:38:20.837180",
          "exception": false,
          "start_time": "2022-03-02T09:38:18.862172",
          "status": "completed"
        },
        "tags": [],
        "id": "ecff5948",
        "outputId": "68850b59-da7c-4fc5-84a6-46828b5f192d"
      },
      "outputs": [
        {
          "data": {
            "image/png": "[encoded data removed]",
            "text/plain": [
              "<Figure size 1296x432 with 1 Axes>"
            ]
          },
          "metadata": {
            "needs_background": "light"
          },
          "output_type": "display_data"
        }
      ],
      "source": [
        "plt.figure(figsize=(18, 6))\n",
        "plt.bar(df.groupby(df.time.dt.date).congestion.mean().index,df.groupby(df.time.dt.date).congestion.mean(),color=\"coral\")\n",
        "plt.ylabel(\"congestion\")\n",
        "plt.title(\"Congestion on date\")\n",
        "plt.show()"
      ]
    },
    {
      "cell_type": "markdown",
      "id": "3446c934",
      "metadata": {
        "papermill": {
          "duration": 0.024437,
          "end_time": "2022-03-02T09:38:20.887888",
          "exception": false,
          "start_time": "2022-03-02T09:38:20.863451",
          "status": "completed"
        },
        "tags": [],
        "id": "3446c934"
      },
      "source": [
        "# Traffic 🚗🚙 Congestion on day of week\n",
        "* It is observed that congestion is less on weekend."
      ]
    },
    {
      "cell_type": "code",
      "execution_count": null,
      "id": "bf29ff6f",
      "metadata": {
        "_kg_hide-input": true,
        "execution": {
          "iopub.execute_input": "2022-03-02T09:38:20.943672Z",
          "iopub.status.busy": "2022-03-02T09:38:20.942935Z",
          "iopub.status.idle": "2022-03-02T09:38:21.407751Z",
          "shell.execute_reply": "2022-03-02T09:38:21.408215Z",
          "shell.execute_reply.started": "2022-03-02T09:34:14.803680Z"
        },
        "papermill": {
          "duration": 0.496063,
          "end_time": "2022-03-02T09:38:21.408370",
          "exception": false,
          "start_time": "2022-03-02T09:38:20.912307",
          "status": "completed"
        },
        "tags": [],
        "id": "bf29ff6f",
        "outputId": "a2c11134-1771-4617-e6ad-eeff2365514c"
      },
      "outputs": [
        {
          "data": {
            "image/png": "[encoded data removed]",
            "text/plain": [
              "<Figure size 1296x432 with 1 Axes>"
            ]
          },
          "metadata": {
            "needs_background": "light"
          },
          "output_type": "display_data"
        }
      ],
      "source": [
        "plt.figure(figsize=(18, 6))\n",
        "plt.bar(df.groupby(df.time.dt.dayofweek).congestion.mean().index,df.groupby(df.time.dt.dayofweek).congestion.mean(),color=\"coral\")\n",
        "plt.xticks(range(7))\n",
        "plt.ylabel(\"congestion\")\n",
        "plt.title(\"Congestion on day of week\")\n",
        "plt.show()"
      ]
    },
    {
      "cell_type": "markdown",
      "id": "a11afc41",
      "metadata": {
        "papermill": {
          "duration": 0.024991,
          "end_time": "2022-03-02T09:38:21.459054",
          "exception": false,
          "start_time": "2022-03-02T09:38:21.434063",
          "status": "completed"
        },
        "tags": [],
        "id": "a11afc41"
      },
      "source": [
        "# One Hot Encoding direction column"
      ]
    },
    {
      "cell_type": "code",
      "execution_count": null,
      "id": "7ddca001",
      "metadata": {
        "execution": {
          "iopub.execute_input": "2022-03-02T09:38:21.518308Z",
          "iopub.status.busy": "2022-03-02T09:38:21.517150Z",
          "iopub.status.idle": "2022-03-02T09:38:21.959513Z",
          "shell.execute_reply": "2022-03-02T09:38:21.959932Z",
          "shell.execute_reply.started": "2022-03-02T09:34:15.269870Z"
        },
        "papermill": {
          "duration": 0.475712,
          "end_time": "2022-03-02T09:38:21.960132",
          "exception": false,
          "start_time": "2022-03-02T09:38:21.484420",
          "status": "completed"
        },
        "tags": [],
        "id": "7ddca001"
      },
      "outputs": [],
      "source": [
        "from sklearn.preprocessing import OneHotEncoder\n",
        "cat=[\"direction\"]\n",
        "OH_encoder = OneHotEncoder(handle_unknown='ignore', sparse=False)\n",
        "train = pd.DataFrame(OH_encoder.fit_transform(df[cat]),columns=list(OH_encoder.get_feature_names()))\n",
        "en_test = pd.DataFrame(OH_encoder.transform(test[cat]),columns=list(OH_encoder.get_feature_names()))\n",
        "# One-hot encoding removed index; put it back\n",
        "train.index = df.index\n",
        "en_test.index = test.index\n",
        "df=df.drop(cat,axis=1)\n",
        "test=test.drop(cat,axis=1)\n",
        "df=pd.concat([df,train],axis=1)\n",
        "test=pd.concat([test,en_test],axis=1)"
      ]
    },
    {
      "cell_type": "code",
      "execution_count": null,
      "id": "2a2b09b7",
      "metadata": {
        "execution": {
          "iopub.execute_input": "2022-03-02T09:38:22.015689Z",
          "iopub.status.busy": "2022-03-02T09:38:22.014851Z",
          "iopub.status.idle": "2022-03-02T09:38:22.017363Z",
          "shell.execute_reply": "2022-03-02T09:38:22.016905Z",
          "shell.execute_reply.started": "2022-03-02T09:34:15.723857Z"
        },
        "papermill": {
          "duration": 0.031947,
          "end_time": "2022-03-02T09:38:22.017480",
          "exception": false,
          "start_time": "2022-03-02T09:38:21.985533",
          "status": "completed"
        },
        "tags": [],
        "id": "2a2b09b7"
      },
      "outputs": [],
      "source": [
        "feats=[col for col in df.columns if col not in [\"row_id\",\"congestion\",\"direction\",\"time\"]]"
      ]
    },
    {
      "cell_type": "markdown",
      "id": "329d4c56",
      "metadata": {
        "papermill": {
          "duration": 0.02475,
          "end_time": "2022-03-02T09:38:22.067211",
          "exception": false,
          "start_time": "2022-03-02T09:38:22.042461",
          "status": "completed"
        },
        "tags": [],
        "id": "329d4c56"
      },
      "source": [
        "# Optuna Hyper Parameter Tuning"
      ]
    },
    {
      "cell_type": "code",
      "execution_count": null,
      "id": "c372886d",
      "metadata": {
        "execution": {
          "iopub.execute_input": "2022-03-02T09:38:22.126963Z",
          "iopub.status.busy": "2022-03-02T09:38:22.126212Z",
          "iopub.status.idle": "2022-03-02T09:39:37.026411Z",
          "shell.execute_reply": "2022-03-02T09:39:37.025892Z",
          "shell.execute_reply.started": "2022-03-02T09:34:15.730437Z"
        },
        "papermill": {
          "duration": 74.93317,
          "end_time": "2022-03-02T09:39:37.026544",
          "exception": false,
          "start_time": "2022-03-02T09:38:22.093374",
          "status": "completed"
        },
        "tags": [],
        "id": "c372886d",
        "outputId": "fd281ca8-82f0-43e9-ead1-a067da08c1c8"
      },
      "outputs": [
        {
          "name": "stderr",
          "output_type": "stream",
          "text": [
            "\u001b[32m[I 2022-03-02 09:38:22,651]\u001b[0m A new study created in memory with name: XGBRegressor\u001b[0m\n",
            "\u001b[32m[I 2022-03-02 09:38:35,285]\u001b[0m Trial 0 finished with value: 6.403421401977539 and parameters: {'n_estimators': 1826, 'learning_rate': 0.09999999999999999, 'subsample': 0.3, 'colsample_bytree': 0.6, 'max_depth': 6, 'gamma': 7.673877464029853, 'reg_alpha': 91, 'reg_lambda': 56}. Best is trial 0 with value: 6.403421401977539.\u001b[0m\n",
            "\u001b[32m[I 2022-03-02 09:39:08,532]\u001b[0m Trial 1 finished with value: 6.779500484466553 and parameters: {'n_estimators': 299, 'learning_rate': 0.02, 'subsample': 0.7, 'colsample_bytree': 0.6, 'max_depth': 19, 'gamma': 6.298074027558028, 'reg_alpha': 52, 'reg_lambda': 77}. Best is trial 0 with value: 6.403421401977539.\u001b[0m\n",
            "\u001b[32m[I 2022-03-02 09:39:10,446]\u001b[0m Trial 2 finished with value: 11.730611801147461 and parameters: {'n_estimators': 308, 'learning_rate': 0.08, 'subsample': 0.9, 'colsample_bytree': 0.1, 'max_depth': 18, 'gamma': 6.62543920406061, 'reg_alpha': 89, 'reg_lambda': 89}. Best is trial 0 with value: 6.403421401977539.\u001b[0m\n",
            "\u001b[32m[I 2022-03-02 09:39:12,534]\u001b[0m Trial 3 finished with value: 7.249028205871582 and parameters: {'n_estimators': 358, 'learning_rate': 0.060000000000000005, 'subsample': 0.2, 'colsample_bytree': 0.7000000000000001, 'max_depth': 5, 'gamma': 3.6348387659470762, 'reg_alpha': 68, 'reg_lambda': 87}. Best is trial 0 with value: 6.403421401977539.\u001b[0m\n",
            "\u001b[32m[I 2022-03-02 09:39:17,002]\u001b[0m Trial 4 finished with value: 6.997399806976318 and parameters: {'n_estimators': 1540, 'learning_rate': 0.04, 'subsample': 1.0, 'colsample_bytree': 0.9, 'max_depth': 4, 'gamma': 3.170539648069618, 'reg_alpha': 95, 'reg_lambda': 88}. Best is trial 0 with value: 6.403421401977539.\u001b[0m\n",
            "\u001b[32m[I 2022-03-02 09:39:37,016]\u001b[0m Trial 5 finished with value: 6.185979843139648 and parameters: {'n_estimators': 1724, 'learning_rate': 0.06999999999999999, 'subsample': 0.6, 'colsample_bytree': 0.6, 'max_depth': 8, 'gamma': 7.8673359990082155, 'reg_alpha': 68, 'reg_lambda': 52}. Best is trial 5 with value: 6.185979843139648.\u001b[0m\n"
          ]
        },
        {
          "name": "stdout",
          "output_type": "stream",
          "text": [
            "Number of finished trials:  6\n",
            "Best trial:\n",
            "\tValue: 6.185979843139648\n",
            "\tParams: \n",
            "\t\tn_estimators: 1724\n",
            "\t\tlearning_rate: 0.06999999999999999\n",
            "\t\tsubsample: 0.6\n",
            "\t\tcolsample_bytree: 0.6\n",
            "\t\tmax_depth: 8\n",
            "\t\tgamma: 7.8673359990082155\n",
            "\t\treg_alpha: 68\n",
            "\t\treg_lambda: 52\n"
          ]
        }
      ],
      "source": [
        "import optuna\n",
        "from optuna.samplers import TPESampler\n",
        "\n",
        "def objective(trial):\n",
        "\n",
        "    param_grid = {\n",
        "              'n_estimators': trial.suggest_int('n_estimators',256,2048),\n",
        "              'learning_rate': trial.suggest_discrete_uniform('learning_rate',0.01,0.1,0.01),\n",
        "              'subsample': trial.suggest_categorical ('subsample', [0.2,0.3,0.4, 0.5, 0.6, 0.7, 0.8, 0.9, 1.0]),\n",
        "              'colsample_bytree': trial.suggest_discrete_uniform('colsample_bytree',0.1,1.0, 0.1),\n",
        "              'max_depth': trial.suggest_int('max_depth', 2, 20),\n",
        "              'booster': 'gbtree',\n",
        "              'gamma': trial.suggest_uniform('gamma',1.0,10.0),\n",
        "              'reg_alpha': trial.suggest_int('reg_alpha',50,100),\n",
        "              'reg_lambda': trial.suggest_int('reg_lambda',50,100),\n",
        "              'random_state': 42,\n",
        "              'enable_categorical': True\n",
        "                 }\n",
        "    x_train, x_valid, y_train, y_valid = train_test_split(df[feats], df.congestion, test_size=0.3, random_state=50)\n",
        "    xgb_model = XGBRegressor(**param_grid, tree_method='gpu_hist', predictor='gpu_predictor')\n",
        "    xgb_model.fit(x_train, y_train, verbose=False)\n",
        "    y_pred = xgb_model.predict(x_valid)\n",
        "    return mean_absolute_error(y_valid, y_pred)\n",
        "    \n",
        "\n",
        "train_time = 1 * 60 * 1 # h * m * s\n",
        "study = optuna.create_study(direction='minimize', sampler=TPESampler(), study_name='XGBRegressor')\n",
        "study.optimize(objective, timeout=train_time)\n",
        "\n",
        "print('Number of finished trials: ', len(study.trials))\n",
        "print('Best trial:')\n",
        "trial = study.best_trial\n",
        "\n",
        "print('\\tValue: {}'.format(trial.value))\n",
        "print('\\tParams: ')\n",
        "for key, value in trial.params.items():\n",
        "    print('\\t\\t{}: {}'.format(key, value))"
      ]
    },
    {
      "cell_type": "markdown",
      "id": "7b26d980",
      "metadata": {
        "papermill": {
          "duration": 0.027794,
          "end_time": "2022-03-02T09:39:37.082589",
          "exception": false,
          "start_time": "2022-03-02T09:39:37.054795",
          "status": "completed"
        },
        "tags": [],
        "id": "7b26d980"
      },
      "source": [
        "# XGBoost"
      ]
    },
    {
      "cell_type": "code",
      "execution_count": null,
      "id": "79e3251b",
      "metadata": {
        "execution": {
          "iopub.execute_input": "2022-03-02T09:39:37.166413Z",
          "iopub.status.busy": "2022-03-02T09:39:37.165544Z",
          "iopub.status.idle": "2022-03-02T09:39:58.859858Z",
          "shell.execute_reply": "2022-03-02T09:39:58.859433Z",
          "shell.execute_reply.started": "2022-03-02T09:36:12.810771Z"
        },
        "papermill": {
          "duration": 21.74956,
          "end_time": "2022-03-02T09:39:58.859981",
          "exception": false,
          "start_time": "2022-03-02T09:39:37.110421",
          "status": "completed"
        },
        "tags": [],
        "id": "79e3251b",
        "outputId": "f8864e92-3461-41ec-bfcf-b56fab789f7e"
      },
      "outputs": [
        {
          "data": {
            "text/plain": [
              "XGBRegressor(base_score=0.5, booster='gbtree', colsample_bylevel=1,\n",
              "             colsample_bynode=1, colsample_bytree=0.6, enable_categorical=False,\n",
              "             gamma=7.8673359990082155, gpu_id=0, importance_type=None,\n",
              "             interaction_constraints='', learning_rate=0.06999999999999999,\n",
              "             max_delta_step=0, max_depth=8, min_child_weight=1, missing=nan,\n",
              "             monotone_constraints='()', n_estimators=1724, n_jobs=2,\n",
              "             num_parallel_tree=1, predictor='gpu_predictor', random_state=0,\n",
              "             reg_alpha=68, reg_lambda=52, scale_pos_weight=1, subsample=0.6,\n",
              "             tree_method='gpu_hist', validate_parameters=1, verbosity=None)"
            ]
          },
          "execution_count": 13,
          "metadata": {},
          "output_type": "execute_result"
        }
      ],
      "source": [
        "xgb_params = trial.params\n",
        "xgb_params['tree_method'] = 'gpu_hist'\n",
        "xgb_params['predictor'] = 'gpu_predictor'\n",
        "\n",
        "reg = XGBRegressor(**xgb_params)\n",
        "reg.fit(df[feats],df['congestion'])\n"
      ]
    },
    {
      "cell_type": "markdown",
      "id": "4d9c638d",
      "metadata": {
        "papermill": {
          "duration": 0.029498,
          "end_time": "2022-03-02T09:39:58.919203",
          "exception": false,
          "start_time": "2022-03-02T09:39:58.889705",
          "status": "completed"
        },
        "tags": [],
        "id": "4d9c638d"
      },
      "source": [
        "# Feature Importance"
      ]
    },
    {
      "cell_type": "code",
      "execution_count": null,
      "id": "1c90c9cf",
      "metadata": {
        "execution": {
          "iopub.execute_input": "2022-03-02T09:39:58.980834Z",
          "iopub.status.busy": "2022-03-02T09:39:58.980123Z",
          "iopub.status.idle": "2022-03-02T09:39:59.265421Z",
          "shell.execute_reply": "2022-03-02T09:39:59.266089Z",
          "shell.execute_reply.started": "2022-03-02T09:37:06.214777Z"
        },
        "papermill": {
          "duration": 0.319165,
          "end_time": "2022-03-02T09:39:59.266252",
          "exception": false,
          "start_time": "2022-03-02T09:39:58.947087",
          "status": "completed"
        },
        "tags": [],
        "id": "1c90c9cf",
        "outputId": "5868a1d2-70e5-40c5-d33e-ddee18c3ead6"
      },
      "outputs": [
        {
          "data": {
            "text/plain": [
              "Text(0.5, 1.0, 'Feature Importance')"
            ]
          },
          "execution_count": 14,
          "metadata": {},
          "output_type": "execute_result"
        },
        {
          "data": {
            "image/png": "[encoded data removed]",
            "text/plain": [
              "<Figure size 864x432 with 1 Axes>"
            ]
          },
          "metadata": {
            "needs_background": "light"
          },
          "output_type": "display_data"
        }
      ],
      "source": [
        "feature_importance = reg.feature_importances_\n",
        "sorted_idx = np.argsort(feature_importance)\n",
        "fig = plt.figure(figsize=(12, 6))\n",
        "plt.barh(range(len(sorted_idx)), feature_importance[sorted_idx], align='center')\n",
        "plt.yticks(range(len(sorted_idx)), np.array(df[feats].columns)[sorted_idx])\n",
        "plt.title('Feature Importance')"
      ]
    },
    {
      "cell_type": "markdown",
      "id": "480a6980",
      "metadata": {
        "papermill": {
          "duration": 0.029036,
          "end_time": "2022-03-02T09:39:59.325348",
          "exception": false,
          "start_time": "2022-03-02T09:39:59.296312",
          "status": "completed"
        },
        "tags": [],
        "id": "480a6980"
      },
      "source": [
        "# Predictions"
      ]
    },
    {
      "cell_type": "code",
      "execution_count": null,
      "id": "77f2baf8",
      "metadata": {
        "execution": {
          "iopub.execute_input": "2022-03-02T09:39:59.389813Z",
          "iopub.status.busy": "2022-03-02T09:39:59.388889Z",
          "iopub.status.idle": "2022-03-02T09:39:59.430949Z",
          "shell.execute_reply": "2022-03-02T09:39:59.430521Z",
          "shell.execute_reply.started": "2022-03-02T09:37:33.730886Z"
        },
        "papermill": {
          "duration": 0.076634,
          "end_time": "2022-03-02T09:39:59.431090",
          "exception": false,
          "start_time": "2022-03-02T09:39:59.354456",
          "status": "completed"
        },
        "tags": [],
        "id": "77f2baf8"
      },
      "outputs": [],
      "source": [
        "preds=reg.predict(test[feats])"
      ]
    },
    {
      "cell_type": "code",
      "execution_count": null,
      "id": "85a25ad1",
      "metadata": {
        "execution": {
          "iopub.execute_input": "2022-03-02T09:39:59.494793Z",
          "iopub.status.busy": "2022-03-02T09:39:59.494088Z",
          "iopub.status.idle": "2022-03-02T09:39:59.504575Z",
          "shell.execute_reply": "2022-03-02T09:39:59.504124Z",
          "shell.execute_reply.started": "2022-03-02T09:37:36.603400Z"
        },
        "papermill": {
          "duration": 0.044203,
          "end_time": "2022-03-02T09:39:59.504685",
          "exception": false,
          "start_time": "2022-03-02T09:39:59.460482",
          "status": "completed"
        },
        "tags": [],
        "id": "85a25ad1"
      },
      "outputs": [],
      "source": [
        "sub.congestion=preds\n",
        "sub.to_csv(\"submission.csv\",index=False)\n"
      ]
    },
    {
      "cell_type": "code",
      "execution_count": null,
      "id": "028553eb",
      "metadata": {
        "papermill": {
          "duration": 0.028861,
          "end_time": "2022-03-02T09:39:59.562634",
          "exception": false,
          "start_time": "2022-03-02T09:39:59.533773",
          "status": "completed"
        },
        "tags": [],
        "id": "028553eb"
      },
      "outputs": [],
      "source": [
        ""
      ]
    }
  ],
  "metadata": {
    "kernelspec": {
      "display_name": "Python 3",
      "language": "python",
      "name": "python3"
    },
    "language_info": {
      "codemirror_mode": {
        "name": "ipython",
        "version": 3
      },
      "file_extension": ".py",
      "mimetype": "text/x-python",
      "name": "python",
      "nbconvert_exporter": "python",
      "pygments_lexer": "ipython3",
      "version": "3.7.12"
    },
    "papermill": {
      "default_parameters": {},
      "duration": 113.783815,
      "end_time": "2022-03-02T09:40:00.802649",
      "environment_variables": {},
      "exception": null,
      "input_path": "__notebook__.ipynb",
      "output_path": "__notebook__.ipynb",
      "parameters": {},
      "start_time": "2022-03-02T09:38:07.018834",
      "version": "2.3.3"
    },
    "colab": {
      "name": "traffic_congestion_forecasting.ipynb",
      "provenance": [],
      "include_colab_link": true
    }
  },
  "nbformat": 4,
  "nbformat_minor": 5
}